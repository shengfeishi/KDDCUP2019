{
 "cells": [
  {
   "cell_type": "code",
   "execution_count": 1,
   "metadata": {},
   "outputs": [],
   "source": [
    "import pandas as pd"
   ]
  },
  {
   "cell_type": "markdown",
   "metadata": {},
   "source": [
    "# 一、train_queries数据集\n",
    "### sid：会话id\n",
    "### pid：配置文件id\n",
    "### req_time：查询时间戳\n",
    "### o：起始点坐标\n",
    "### d：终点坐标"
   ]
  },
  {
   "cell_type": "markdown",
   "metadata": {},
   "source": [
    "## 1.1    数据大小&类型"
   ]
  },
  {
   "cell_type": "code",
   "execution_count": 45,
   "metadata": {},
   "outputs": [],
   "source": [
    "train_queries = pd.read_csv('data_set_phase1//train_queries.csv')"
   ]
  },
  {
   "cell_type": "code",
   "execution_count": 3,
   "metadata": {},
   "outputs": [
    {
     "data": {
      "text/html": [
       "<div>\n",
       "<style scoped>\n",
       "    .dataframe tbody tr th:only-of-type {\n",
       "        vertical-align: middle;\n",
       "    }\n",
       "\n",
       "    .dataframe tbody tr th {\n",
       "        vertical-align: top;\n",
       "    }\n",
       "\n",
       "    .dataframe thead th {\n",
       "        text-align: right;\n",
       "    }\n",
       "</style>\n",
       "<table border=\"1\" class=\"dataframe\">\n",
       "  <thead>\n",
       "    <tr style=\"text-align: right;\">\n",
       "      <th></th>\n",
       "      <th>sid</th>\n",
       "      <th>pid</th>\n",
       "      <th>req_time</th>\n",
       "      <th>o</th>\n",
       "      <th>d</th>\n",
       "    </tr>\n",
       "  </thead>\n",
       "  <tbody>\n",
       "    <tr>\n",
       "      <th>0</th>\n",
       "      <td>3000821</td>\n",
       "      <td>NaN</td>\n",
       "      <td>2018-11-02 17:54:30</td>\n",
       "      <td>116.29,39.97</td>\n",
       "      <td>116.32,39.96</td>\n",
       "    </tr>\n",
       "    <tr>\n",
       "      <th>1</th>\n",
       "      <td>3085857</td>\n",
       "      <td>210736.0</td>\n",
       "      <td>2018-11-16 10:53:10</td>\n",
       "      <td>116.39,39.84</td>\n",
       "      <td>116.33,39.79</td>\n",
       "    </tr>\n",
       "    <tr>\n",
       "      <th>2</th>\n",
       "      <td>2944522</td>\n",
       "      <td>NaN</td>\n",
       "      <td>2018-10-06 10:33:58</td>\n",
       "      <td>116.31,39.93</td>\n",
       "      <td>116.27,40.00</td>\n",
       "    </tr>\n",
       "    <tr>\n",
       "      <th>3</th>\n",
       "      <td>559931</td>\n",
       "      <td>202427.0</td>\n",
       "      <td>2018-11-23 14:54:11</td>\n",
       "      <td>116.27,39.88</td>\n",
       "      <td>116.39,39.90</td>\n",
       "    </tr>\n",
       "    <tr>\n",
       "      <th>4</th>\n",
       "      <td>2819352</td>\n",
       "      <td>172251.0</td>\n",
       "      <td>2018-10-30 11:48:41</td>\n",
       "      <td>116.34,39.96</td>\n",
       "      <td>116.37,39.86</td>\n",
       "    </tr>\n",
       "  </tbody>\n",
       "</table>\n",
       "</div>"
      ],
      "text/plain": [
       "       sid       pid             req_time             o             d\n",
       "0  3000821       NaN  2018-11-02 17:54:30  116.29,39.97  116.32,39.96\n",
       "1  3085857  210736.0  2018-11-16 10:53:10  116.39,39.84  116.33,39.79\n",
       "2  2944522       NaN  2018-10-06 10:33:58  116.31,39.93  116.27,40.00\n",
       "3   559931  202427.0  2018-11-23 14:54:11  116.27,39.88  116.39,39.90\n",
       "4  2819352  172251.0  2018-10-30 11:48:41  116.34,39.96  116.37,39.86"
      ]
     },
     "execution_count": 3,
     "metadata": {},
     "output_type": "execute_result"
    }
   ],
   "source": [
    "train_queries.head()"
   ]
  },
  {
   "cell_type": "code",
   "execution_count": 4,
   "metadata": {},
   "outputs": [
    {
     "data": {
      "text/plain": [
       "(500000, 5)"
      ]
     },
     "execution_count": 4,
     "metadata": {},
     "output_type": "execute_result"
    }
   ],
   "source": [
    "train_queries.shape"
   ]
  },
  {
   "cell_type": "code",
   "execution_count": 5,
   "metadata": {},
   "outputs": [
    {
     "data": {
      "text/plain": [
       "sid           int64\n",
       "pid         float64\n",
       "req_time     object\n",
       "o            object\n",
       "d            object\n",
       "dtype: object"
      ]
     },
     "execution_count": 5,
     "metadata": {},
     "output_type": "execute_result"
    }
   ],
   "source": [
    "train_queries.dtypes"
   ]
  },
  {
   "cell_type": "markdown",
   "metadata": {},
   "source": [
    "#### 结论：\n",
    "#### 1、数据中有一个int64类型的数据，一个float64类型的数据，三个object类型数据\n",
    "#### 2、一共有500000条数据"
   ]
  },
  {
   "cell_type": "markdown",
   "metadata": {},
   "source": [
    "## 1.2     数据缺失值情况"
   ]
  },
  {
   "cell_type": "code",
   "execution_count": 6,
   "metadata": {},
   "outputs": [
    {
     "data": {
      "text/plain": [
       "sid              0\n",
       "pid         163979\n",
       "req_time         0\n",
       "o                0\n",
       "d                0\n",
       "dtype: int64"
      ]
     },
     "execution_count": 6,
     "metadata": {},
     "output_type": "execute_result"
    }
   ],
   "source": [
    "train_queries.isnull().sum()"
   ]
  },
  {
   "cell_type": "code",
   "execution_count": 9,
   "metadata": {},
   "outputs": [
    {
     "data": {
      "text/plain": [
       "0.327958"
      ]
     },
     "execution_count": 9,
     "metadata": {},
     "output_type": "execute_result"
    }
   ],
   "source": [
    "163979/500000"
   ]
  },
  {
   "cell_type": "markdown",
   "metadata": {},
   "source": [
    "#### 结论：pid存在163979个缺失值，缺失比例为32.7958%"
   ]
  },
  {
   "cell_type": "markdown",
   "metadata": {},
   "source": [
    "## 1.3  数据nunique的分布"
   ]
  },
  {
   "cell_type": "markdown",
   "metadata": {},
   "source": [
    "#### nuinque()是查看该序列(axis=0/1对应着列或行)的不同值的数量。用这个函数可以查看数据有多少个不同值。数据nunique的分布的比例，可以判断某一列的特征是否唯一"
   ]
  },
  {
   "cell_type": "code",
   "execution_count": 8,
   "metadata": {},
   "outputs": [
    {
     "data": {
      "text/plain": [
       "sid         500000\n",
       "pid          46191\n",
       "req_time    464211\n",
       "o             5460\n",
       "d             4923\n",
       "dtype: int64"
      ]
     },
     "execution_count": 8,
     "metadata": {},
     "output_type": "execute_result"
    }
   ],
   "source": [
    "train_queries.nunique()"
   ]
  },
  {
   "cell_type": "code",
   "execution_count": 7,
   "metadata": {},
   "outputs": [
    {
     "data": {
      "text/plain": [
       "sid         1.000000\n",
       "pid         0.092382\n",
       "req_time    0.928422\n",
       "o           0.010920\n",
       "d           0.009846\n",
       "dtype: float64"
      ]
     },
     "execution_count": 7,
     "metadata": {},
     "output_type": "execute_result"
    }
   ],
   "source": [
    "train_queries.nunique()/train_queries.shape[0]"
   ]
  },
  {
   "cell_type": "markdown",
   "metadata": {},
   "source": [
    "#### 结论：\n",
    "#### 1、sid是唯一的\n",
    "#### 2、pid不同值占了9.2382%\n",
    "#### 3、o和d的不同值分别占了1.092%和0.9846%，说明起始点坐标和终点坐标有很多相同值；大概是相同地点搜索路线的用户有很多，相同起点和相同目的地的用户也很多"
   ]
  },
  {
   "cell_type": "markdown",
   "metadata": {},
   "source": [
    "## 1.4 o和d探索"
   ]
  },
  {
   "cell_type": "code",
   "execution_count": 10,
   "metadata": {},
   "outputs": [
    {
     "data": {
      "text/plain": [
       "116.37,39.86    5993\n",
       "116.32,39.89    5930\n",
       "116.42,39.90    5819\n",
       "116.41,39.91    5616\n",
       "116.37,39.91    5246\n",
       "Name: o, dtype: int64"
      ]
     },
     "execution_count": 10,
     "metadata": {},
     "output_type": "execute_result"
    }
   ],
   "source": [
    "train_queries['o'].value_counts()[:5]"
   ]
  },
  {
   "cell_type": "code",
   "execution_count": 11,
   "metadata": {},
   "outputs": [
    {
     "data": {
      "text/plain": [
       "116.32,39.89    16503\n",
       "116.37,39.86    13124\n",
       "116.42,39.90    11256\n",
       "116.39,39.90     7575\n",
       "116.39,39.91     7571\n",
       "Name: d, dtype: int64"
      ]
     },
     "execution_count": 11,
     "metadata": {},
     "output_type": "execute_result"
    }
   ],
   "source": [
    "train_queries['d'].value_counts()[:5]"
   ]
  },
  {
   "cell_type": "markdown",
   "metadata": {},
   "source": [
    "## 1.4.1  o和d的分布探索"
   ]
  },
  {
   "cell_type": "markdown",
   "metadata": {},
   "source": [
    "#### 为了对经纬度有个大致了解，将经纬度的信息进行KMeans聚类，并用散点图进行绘制"
   ]
  },
  {
   "cell_type": "code",
   "execution_count": 12,
   "metadata": {},
   "outputs": [],
   "source": [
    "from sklearn.cluster import KMeans\n",
    "from pandas import Series, DataFrame\n",
    "import matplotlib.pyplot as plt\n",
    "import matplotlib\n",
    "import numpy as np\n",
    "\n",
    "o_x_list = []\n",
    "o_y_list = []\n",
    "\n",
    "d_x_list = []\n",
    "d_y_list = []\n",
    "\n",
    "# 将经纬度坐标提取出来\n",
    "for i in range(train_queries.shape[0]):\n",
    "    o_x_list.append(float(train_queries['o'][i].split(',')[0]))\n",
    "    o_y_list.append(float(train_queries['o'][i].split(',')[1]))\n",
    "    \n",
    "    d_x_list.append(float(train_queries['d'][i].split(',')[0]))\n",
    "    d_y_list.append(float(train_queries['d'][i].split(',')[1]))\n",
    "    \n",
    "o_data = pd.DataFrame.from_dict({'x': o_x_list, 'y': o_y_list})\n",
    "d_data = pd.DataFrame.from_dict({'x': d_x_list, 'y': d_y_list})\n",
    "\n",
    "# KMeans聚类\n",
    "model_o = KMeans(n_clusters=7, init='k-means++', n_init=5)\n",
    "model_d = KMeans(n_clusters=7, init='k-means++', n_init=5)\n",
    "y_pre_o = model_o.fit_predict(o_data)\n",
    "y_pre_d = model_d.fit_predict(d_data)"
   ]
  },
  {
   "cell_type": "code",
   "execution_count": 13,
   "metadata": {
    "scrolled": false
   },
   "outputs": [
    {
     "data": {
      "image/png": "[encoded data removed]",
      "text/plain": [
       "<matplotlib.figure.Figure at 0x26f99fe6dd8>"
      ]
     },
     "metadata": {
      "needs_background": "light"
     },
     "output_type": "display_data"
    }
   ],
   "source": [
    "# 画散点图图\n",
    "def plotScatter(data, y_pre, x_list, y_list):\n",
    "    matplotlib.rcParams['font.sans-serif'] = ['SimHei']\n",
    "    matplotlib.rcParams['axes.unicode_minus'] = False\n",
    "    cm = matplotlib.colors.ListedColormap(['c','b','r','g','m','y'])\n",
    "    plt.scatter(data['x'], data['y'], c=y_pre, cmap=cm, edgecolors='none')\n",
    "    x_min = np.min(x_list)\n",
    "    x_max = np.max(x_list)\n",
    "    y_min = np.min(y_list)\n",
    "    y_max = np.max(y_list)\n",
    "    plt.xticks(np.linspace(x_min,x_max,8,endpoint=True))\n",
    "    plt.yticks(np.linspace(y_min,y_max,9,endpoint=True))\n",
    "    plt.xlabel('纬度', fontsize=16)\n",
    "    plt.ylabel('经度', fontsize=16)\n",
    "plt.figure(figsize=(15, 10))\n",
    "ax1 = plt.subplot(2,2,1)\n",
    "plotScatter(o_data, y_pre_o, o_x_list, o_y_list)\n",
    "ax1.set_title('起点（o）经纬度分布', fontsize=18)\n",
    "ax2 = plt.subplot(2,2,2)\n",
    "plotScatter(d_data, y_pre_d, d_x_list, d_y_list)\n",
    "ax2.set_title('终点（d）经纬度分布', fontsize=18)\n",
    "plt.show()"
   ]
  },
  {
   "cell_type": "markdown",
   "metadata": {},
   "source": [
    "#### 从上图可以看出，中心区较为密集，多为商场等大型场所，所以点很多；较远区域有很多散点，多为上班族下班回郊区所造成。而且起点（o）的分布与终点（d）的分布类似。"
   ]
  },
  {
   "cell_type": "markdown",
   "metadata": {},
   "source": [
    "# 二、train_plans数据集\n",
    "### sid：会话id\n",
    "### plan_time：计划推荐时间戳\n",
    "### plans：推荐模式，包括distance(距离m)、price(价格c)、eta(预计所需时间s)、transport_mode(出行模式)"
   ]
  },
  {
   "cell_type": "markdown",
   "metadata": {},
   "source": [
    "## 2.1  数据类型和大小"
   ]
  },
  {
   "cell_type": "code",
   "execution_count": 46,
   "metadata": {},
   "outputs": [],
   "source": [
    "train_plans = pd.read_csv('data_set_phase1//train_plans.csv')"
   ]
  },
  {
   "cell_type": "code",
   "execution_count": 16,
   "metadata": {},
   "outputs": [
    {
     "data": {
      "text/html": [
       "<div>\n",
       "<style scoped>\n",
       "    .dataframe tbody tr th:only-of-type {\n",
       "        vertical-align: middle;\n",
       "    }\n",
       "\n",
       "    .dataframe tbody tr th {\n",
       "        vertical-align: top;\n",
       "    }\n",
       "\n",
       "    .dataframe thead th {\n",
       "        text-align: right;\n",
       "    }\n",
       "</style>\n",
       "<table border=\"1\" class=\"dataframe\">\n",
       "  <thead>\n",
       "    <tr style=\"text-align: right;\">\n",
       "      <th></th>\n",
       "      <th>sid</th>\n",
       "      <th>plan_time</th>\n",
       "      <th>plans</th>\n",
       "    </tr>\n",
       "  </thead>\n",
       "  <tbody>\n",
       "    <tr>\n",
       "      <th>0</th>\n",
       "      <td>1709112</td>\n",
       "      <td>2018-11-04 11:45:04</td>\n",
       "      <td>[{\"distance\": 32303, \"price\": 600, \"eta\": 5087...</td>\n",
       "    </tr>\n",
       "    <tr>\n",
       "      <th>1</th>\n",
       "      <td>3327773</td>\n",
       "      <td>2018-10-16 19:09:29</td>\n",
       "      <td>[{\"distance\": 3427, \"price\": 300, \"eta\": 627, ...</td>\n",
       "    </tr>\n",
       "    <tr>\n",
       "      <th>2</th>\n",
       "      <td>3285959</td>\n",
       "      <td>2018-11-25 15:05:22</td>\n",
       "      <td>[{\"distance\": 36234, \"price\": 1100, \"eta\": 931...</td>\n",
       "    </tr>\n",
       "    <tr>\n",
       "      <th>3</th>\n",
       "      <td>1616170</td>\n",
       "      <td>2018-10-03 14:42:40</td>\n",
       "      <td>[{\"distance\": 11450, \"price\": 400, \"eta\": 2801...</td>\n",
       "    </tr>\n",
       "    <tr>\n",
       "      <th>4</th>\n",
       "      <td>351369</td>\n",
       "      <td>2018-10-05 19:52:37</td>\n",
       "      <td>[{\"distance\": 18495, \"price\": 600, \"eta\": 4271...</td>\n",
       "    </tr>\n",
       "  </tbody>\n",
       "</table>\n",
       "</div>"
      ],
      "text/plain": [
       "       sid            plan_time  \\\n",
       "0  1709112  2018-11-04 11:45:04   \n",
       "1  3327773  2018-10-16 19:09:29   \n",
       "2  3285959  2018-11-25 15:05:22   \n",
       "3  1616170  2018-10-03 14:42:40   \n",
       "4   351369  2018-10-05 19:52:37   \n",
       "\n",
       "                                               plans  \n",
       "0  [{\"distance\": 32303, \"price\": 600, \"eta\": 5087...  \n",
       "1  [{\"distance\": 3427, \"price\": 300, \"eta\": 627, ...  \n",
       "2  [{\"distance\": 36234, \"price\": 1100, \"eta\": 931...  \n",
       "3  [{\"distance\": 11450, \"price\": 400, \"eta\": 2801...  \n",
       "4  [{\"distance\": 18495, \"price\": 600, \"eta\": 4271...  "
      ]
     },
     "execution_count": 16,
     "metadata": {},
     "output_type": "execute_result"
    }
   ],
   "source": [
    "train_plans.head()"
   ]
  },
  {
   "cell_type": "code",
   "execution_count": 15,
   "metadata": {},
   "outputs": [
    {
     "data": {
      "text/plain": [
       "(491054, 3)"
      ]
     },
     "execution_count": 15,
     "metadata": {},
     "output_type": "execute_result"
    }
   ],
   "source": [
    "train_plans.shape"
   ]
  },
  {
   "cell_type": "code",
   "execution_count": 18,
   "metadata": {},
   "outputs": [
    {
     "data": {
      "text/plain": [
       "sid           int64\n",
       "plan_time    object\n",
       "plans        object\n",
       "dtype: object"
      ]
     },
     "execution_count": 18,
     "metadata": {},
     "output_type": "execute_result"
    }
   ],
   "source": [
    "train_plans.dtypes"
   ]
  },
  {
   "cell_type": "code",
   "execution_count": 17,
   "metadata": {},
   "outputs": [
    {
     "data": {
      "text/plain": [
       "sid          0\n",
       "plan_time    0\n",
       "plans        0\n",
       "dtype: int64"
      ]
     },
     "execution_count": 17,
     "metadata": {},
     "output_type": "execute_result"
    }
   ],
   "source": [
    "train_plans.isnull().sum()"
   ]
  },
  {
   "cell_type": "code",
   "execution_count": 20,
   "metadata": {},
   "outputs": [
    {
     "data": {
      "text/plain": [
       "sid          491054\n",
       "plan_time    455427\n",
       "plans        489563\n",
       "dtype: int64"
      ]
     },
     "execution_count": 20,
     "metadata": {},
     "output_type": "execute_result"
    }
   ],
   "source": [
    "train_plans.nunique()"
   ]
  },
  {
   "cell_type": "markdown",
   "metadata": {},
   "source": [
    "#### 结论：\n",
    "#### 1、数据集总共491054条数据\n",
    "#### 2、数据集中包含一个int64数据类型，两个object数据类型\n",
    "#### 3、无缺失值\n",
    "#### 4、sid唯一，plan_time和plans有不同程度的相同数据"
   ]
  },
  {
   "cell_type": "markdown",
   "metadata": {},
   "source": [
    "## 2.2  plans分析"
   ]
  },
  {
   "cell_type": "markdown",
   "metadata": {},
   "source": [
    "#### plans是以list形式存储，读取出来是string类型，所以用eval对plans的类型进行还原，并抽取里面的特征"
   ]
  },
  {
   "cell_type": "code",
   "execution_count": 24,
   "metadata": {},
   "outputs": [],
   "source": [
    "plans = pd.DataFrame()\n",
    "for i in range(1000):# train_plans.shape[0]\n",
    "    sid = train_plans['sid'][i]\n",
    "    for j in range(len(eval(train_plans['plans'][i]))):\n",
    "        distance = (eval(train_plans['plans'][i])[j])['distance']\n",
    "        price = (eval(train_plans['plans'][i])[j])['price']\n",
    "        eta = (eval(train_plans['plans'][i])[j])['eta']\n",
    "        transport_mode = (eval(train_plans['plans'][i])[j])['transport_mode']\n",
    "        plan = {'sid': sid, 'transport_mode': transport_mode, 'distance': distance, 'price': price, 'eta': eta, 'rank': j+1}\n",
    "        plan_dt = pd.DataFrame.from_dict(plan, orient='index').T\n",
    "        plans = pd.concat([plans, plan_dt], ignore_index=True)"
   ]
  },
  {
   "cell_type": "code",
   "execution_count": 25,
   "metadata": {},
   "outputs": [
    {
     "data": {
      "text/html": [
       "<div>\n",
       "<style scoped>\n",
       "    .dataframe tbody tr th:only-of-type {\n",
       "        vertical-align: middle;\n",
       "    }\n",
       "\n",
       "    .dataframe tbody tr th {\n",
       "        vertical-align: top;\n",
       "    }\n",
       "\n",
       "    .dataframe thead th {\n",
       "        text-align: right;\n",
       "    }\n",
       "</style>\n",
       "<table border=\"1\" class=\"dataframe\">\n",
       "  <thead>\n",
       "    <tr style=\"text-align: right;\">\n",
       "      <th></th>\n",
       "      <th>sid</th>\n",
       "      <th>transport_mode</th>\n",
       "      <th>distance</th>\n",
       "      <th>price</th>\n",
       "      <th>eta</th>\n",
       "      <th>rank</th>\n",
       "    </tr>\n",
       "  </thead>\n",
       "  <tbody>\n",
       "    <tr>\n",
       "      <th>0</th>\n",
       "      <td>1709112</td>\n",
       "      <td>9</td>\n",
       "      <td>32303</td>\n",
       "      <td>600</td>\n",
       "      <td>5087</td>\n",
       "      <td>1</td>\n",
       "    </tr>\n",
       "    <tr>\n",
       "      <th>1</th>\n",
       "      <td>1709112</td>\n",
       "      <td>3</td>\n",
       "      <td>33678</td>\n",
       "      <td>0</td>\n",
       "      <td>3149</td>\n",
       "      <td>2</td>\n",
       "    </tr>\n",
       "    <tr>\n",
       "      <th>2</th>\n",
       "      <td>1709112</td>\n",
       "      <td>4</td>\n",
       "      <td>33678</td>\n",
       "      <td>10000</td>\n",
       "      <td>3269</td>\n",
       "      <td>3</td>\n",
       "    </tr>\n",
       "    <tr>\n",
       "      <th>3</th>\n",
       "      <td>1709112</td>\n",
       "      <td>2</td>\n",
       "      <td>32099</td>\n",
       "      <td>600</td>\n",
       "      <td>5996</td>\n",
       "      <td>4</td>\n",
       "    </tr>\n",
       "    <tr>\n",
       "      <th>4</th>\n",
       "      <td>1709112</td>\n",
       "      <td>1</td>\n",
       "      <td>30446</td>\n",
       "      <td>900</td>\n",
       "      <td>6494</td>\n",
       "      <td>5</td>\n",
       "    </tr>\n",
       "  </tbody>\n",
       "</table>\n",
       "</div>"
      ],
      "text/plain": [
       "       sid transport_mode distance  price   eta rank\n",
       "0  1709112              9    32303    600  5087    1\n",
       "1  1709112              3    33678      0  3149    2\n",
       "2  1709112              4    33678  10000  3269    3\n",
       "3  1709112              2    32099    600  5996    4\n",
       "4  1709112              1    30446    900  6494    5"
      ]
     },
     "execution_count": 25,
     "metadata": {},
     "output_type": "execute_result"
    }
   ],
   "source": [
    "plans.price[plans['price']=='']=0\n",
    "plans.head()"
   ]
  },
  {
   "cell_type": "markdown",
   "metadata": {},
   "source": [
    "## 2.3  transport_mode猜测"
   ]
  },
  {
   "cell_type": "markdown",
   "metadata": {},
   "source": [
    "#### 画出每一种transport_mode的平均速度直方图和平均价格直方图，猜测每一种mode是什么"
   ]
  },
  {
   "cell_type": "code",
   "execution_count": 26,
   "metadata": {},
   "outputs": [
    {
     "data": {
      "image/png": "[encoded data removed]",
      "text/plain": [
       "<matplotlib.figure.Figure at 0x26f9a06c7f0>"
      ]
     },
     "metadata": {
      "needs_background": "light"
     },
     "output_type": "display_data"
    }
   ],
   "source": [
    "# 计算每种mode的平均价格\n",
    "p = []\n",
    "for i in range(11):\n",
    "    pri = plans.price[plans['transport_mode']==i+1].sum()/len(plans.price[plans['transport_mode']==i+1])\n",
    "    p.append(pri)\n",
    "    \n",
    "# 计算每种mode的平均速度\n",
    "s = []\n",
    "for i in range(11):\n",
    "    speed = plans.distance[plans['transport_mode']==i+1].sum()/plans.eta[plans['transport_mode']==i+1].sum()\n",
    "    s.append(speed)\n",
    "\n",
    "# 画直方图\n",
    "plt.figure(figsize=(12,9))\n",
    "x_label = ['1', '2', '3', '4', '5', '6', '7', '8', '9', '10', '11']\n",
    "ax1 = plt.subplot(2,2,1)\n",
    "ax1.bar(range(len(p)), p, tick_label=x_label)\n",
    "ax1.set_title('每种mode平均价格直方图', fontsize=18)\n",
    "ax1.set_xlabel('mode', fontsize=16)\n",
    "ax1.set_ylabel('price', fontsize=16)\n",
    "\n",
    "ax2 = plt.subplot(2,2,2)\n",
    "ax2.bar(range(len(s)), s, tick_label=x_label)\n",
    "ax2.set_title('每种mode平均速度直方图', fontsize=18)\n",
    "ax2.set_xlabel('mode', fontsize=16)\n",
    "ax2.set_ylabel('speed', fontsize=16)\n",
    "plt.show()"
   ]
  },
  {
   "cell_type": "markdown",
   "metadata": {},
   "source": [
    "#### 通过观察上图，mode5可能是步行，因为价格为0，速度最慢；mode6可能是自行车，因为价格为0，速度还算可以；mode3可能是自驾，因为价格为0，速度比较快，自己家的车不需要向外支出费用。"
   ]
  },
  {
   "cell_type": "markdown",
   "metadata": {},
   "source": [
    "## 2.4  train_queries和train_plans中的sid和时间戳探索"
   ]
  },
  {
   "cell_type": "markdown",
   "metadata": {},
   "source": [
    "#### train_queries和train_plans都存在一个sid和一个时间戳，我们想探索一下sid和时间戳是否有很大差别"
   ]
  },
  {
   "cell_type": "code",
   "execution_count": 47,
   "metadata": {},
   "outputs": [],
   "source": [
    "q_p = pd.merge(train_queries, train_plans, on='sid')"
   ]
  },
  {
   "cell_type": "code",
   "execution_count": 28,
   "metadata": {},
   "outputs": [
    {
     "data": {
      "text/html": [
       "<div>\n",
       "<style scoped>\n",
       "    .dataframe tbody tr th:only-of-type {\n",
       "        vertical-align: middle;\n",
       "    }\n",
       "\n",
       "    .dataframe tbody tr th {\n",
       "        vertical-align: top;\n",
       "    }\n",
       "\n",
       "    .dataframe thead th {\n",
       "        text-align: right;\n",
       "    }\n",
       "</style>\n",
       "<table border=\"1\" class=\"dataframe\">\n",
       "  <thead>\n",
       "    <tr style=\"text-align: right;\">\n",
       "      <th></th>\n",
       "      <th>sid</th>\n",
       "      <th>pid</th>\n",
       "      <th>req_time</th>\n",
       "      <th>o</th>\n",
       "      <th>d</th>\n",
       "      <th>plan_time</th>\n",
       "      <th>plans</th>\n",
       "    </tr>\n",
       "  </thead>\n",
       "  <tbody>\n",
       "    <tr>\n",
       "      <th>0</th>\n",
       "      <td>3000821</td>\n",
       "      <td>NaN</td>\n",
       "      <td>2018-11-02 17:54:30</td>\n",
       "      <td>116.29,39.97</td>\n",
       "      <td>116.32,39.96</td>\n",
       "      <td>2018-11-02 17:54:30</td>\n",
       "      <td>[{\"distance\": 5219, \"price\": 300, \"eta\": 1367,...</td>\n",
       "    </tr>\n",
       "    <tr>\n",
       "      <th>1</th>\n",
       "      <td>3085857</td>\n",
       "      <td>210736.0</td>\n",
       "      <td>2018-11-16 10:53:10</td>\n",
       "      <td>116.39,39.84</td>\n",
       "      <td>116.33,39.79</td>\n",
       "      <td>2018-11-16 10:53:10</td>\n",
       "      <td>[{\"distance\": 13864, \"price\": 600, \"eta\": 3221...</td>\n",
       "    </tr>\n",
       "    <tr>\n",
       "      <th>2</th>\n",
       "      <td>2944522</td>\n",
       "      <td>NaN</td>\n",
       "      <td>2018-10-06 10:33:58</td>\n",
       "      <td>116.31,39.93</td>\n",
       "      <td>116.27,40.00</td>\n",
       "      <td>2018-10-06 10:33:58</td>\n",
       "      <td>[{\"distance\": 12294, \"price\": 400, \"eta\": 2472...</td>\n",
       "    </tr>\n",
       "    <tr>\n",
       "      <th>3</th>\n",
       "      <td>559931</td>\n",
       "      <td>202427.0</td>\n",
       "      <td>2018-11-23 14:54:11</td>\n",
       "      <td>116.27,39.88</td>\n",
       "      <td>116.39,39.90</td>\n",
       "      <td>2018-11-23 14:54:11</td>\n",
       "      <td>[{\"distance\": 14853, \"price\": 1700, \"eta\": 291...</td>\n",
       "    </tr>\n",
       "    <tr>\n",
       "      <th>4</th>\n",
       "      <td>2819352</td>\n",
       "      <td>172251.0</td>\n",
       "      <td>2018-10-30 11:48:41</td>\n",
       "      <td>116.34,39.96</td>\n",
       "      <td>116.37,39.86</td>\n",
       "      <td>2018-10-30 11:48:41</td>\n",
       "      <td>[{\"distance\": 12882, \"price\": 600, \"eta\": 3211...</td>\n",
       "    </tr>\n",
       "  </tbody>\n",
       "</table>\n",
       "</div>"
      ],
      "text/plain": [
       "       sid       pid             req_time             o             d  \\\n",
       "0  3000821       NaN  2018-11-02 17:54:30  116.29,39.97  116.32,39.96   \n",
       "1  3085857  210736.0  2018-11-16 10:53:10  116.39,39.84  116.33,39.79   \n",
       "2  2944522       NaN  2018-10-06 10:33:58  116.31,39.93  116.27,40.00   \n",
       "3   559931  202427.0  2018-11-23 14:54:11  116.27,39.88  116.39,39.90   \n",
       "4  2819352  172251.0  2018-10-30 11:48:41  116.34,39.96  116.37,39.86   \n",
       "\n",
       "             plan_time                                              plans  \n",
       "0  2018-11-02 17:54:30  [{\"distance\": 5219, \"price\": 300, \"eta\": 1367,...  \n",
       "1  2018-11-16 10:53:10  [{\"distance\": 13864, \"price\": 600, \"eta\": 3221...  \n",
       "2  2018-10-06 10:33:58  [{\"distance\": 12294, \"price\": 400, \"eta\": 2472...  \n",
       "3  2018-11-23 14:54:11  [{\"distance\": 14853, \"price\": 1700, \"eta\": 291...  \n",
       "4  2018-10-30 11:48:41  [{\"distance\": 12882, \"price\": 600, \"eta\": 3211...  "
      ]
     },
     "execution_count": 28,
     "metadata": {},
     "output_type": "execute_result"
    }
   ],
   "source": [
    "q_p.head()"
   ]
  },
  {
   "cell_type": "code",
   "execution_count": 29,
   "metadata": {},
   "outputs": [
    {
     "data": {
      "text/plain": [
       "(491054, 7)"
      ]
     },
     "execution_count": 29,
     "metadata": {},
     "output_type": "execute_result"
    }
   ],
   "source": [
    "q_p.shape"
   ]
  },
  {
   "cell_type": "code",
   "execution_count": 30,
   "metadata": {},
   "outputs": [],
   "source": [
    "# 比较两个时间戳\n",
    "import datetime\n",
    "time = []\n",
    "for i in range(q_p.shape[0]):\n",
    "    req_time = datetime.datetime.strptime(q_p['req_time'][i], \"%Y-%m-%d %H:%M:%S\")\n",
    "    plan_time = datetime.datetime.strptime(q_p['plan_time'][i], \"%Y-%m-%d %H:%M:%S\")\n",
    "    time.append(req_time-plan_time)"
   ]
  },
  {
   "cell_type": "markdown",
   "metadata": {},
   "source": [
    "#### 结论：\n",
    "#### 1、train_plans中的sid都在train_queries中\n",
    "#### 2、req_time和plan_time基本上是一样的（99%左右），有个别不一样的情况，可能是因为网速或查询地点有问题"
   ]
  },
  {
   "cell_type": "markdown",
   "metadata": {},
   "source": [
    "# 三、train_clicks数据集\n",
    "### sid：会话（id）\n",
    "### click_time：点击时间\n",
    "### click_mode：点击模式"
   ]
  },
  {
   "cell_type": "markdown",
   "metadata": {},
   "source": [
    "## 3.1  数据集大小和类型"
   ]
  },
  {
   "cell_type": "code",
   "execution_count": 48,
   "metadata": {},
   "outputs": [],
   "source": [
    "train_clicks = pd.read_csv('data_set_phase1//train_clicks.csv')"
   ]
  },
  {
   "cell_type": "code",
   "execution_count": 32,
   "metadata": {},
   "outputs": [
    {
     "data": {
      "text/html": [
       "<div>\n",
       "<style scoped>\n",
       "    .dataframe tbody tr th:only-of-type {\n",
       "        vertical-align: middle;\n",
       "    }\n",
       "\n",
       "    .dataframe tbody tr th {\n",
       "        vertical-align: top;\n",
       "    }\n",
       "\n",
       "    .dataframe thead th {\n",
       "        text-align: right;\n",
       "    }\n",
       "</style>\n",
       "<table border=\"1\" class=\"dataframe\">\n",
       "  <thead>\n",
       "    <tr style=\"text-align: right;\">\n",
       "      <th></th>\n",
       "      <th>sid</th>\n",
       "      <th>click_time</th>\n",
       "      <th>click_mode</th>\n",
       "    </tr>\n",
       "  </thead>\n",
       "  <tbody>\n",
       "    <tr>\n",
       "      <th>0</th>\n",
       "      <td>2848914</td>\n",
       "      <td>2018-11-17 18:42:17</td>\n",
       "      <td>1</td>\n",
       "    </tr>\n",
       "    <tr>\n",
       "      <th>1</th>\n",
       "      <td>2629085</td>\n",
       "      <td>2018-10-12 16:28:13</td>\n",
       "      <td>3</td>\n",
       "    </tr>\n",
       "    <tr>\n",
       "      <th>2</th>\n",
       "      <td>602598</td>\n",
       "      <td>2018-11-11 16:38:42</td>\n",
       "      <td>2</td>\n",
       "    </tr>\n",
       "    <tr>\n",
       "      <th>3</th>\n",
       "      <td>2022975</td>\n",
       "      <td>2018-10-14 12:28:11</td>\n",
       "      <td>9</td>\n",
       "    </tr>\n",
       "    <tr>\n",
       "      <th>4</th>\n",
       "      <td>988425</td>\n",
       "      <td>2018-11-12 16:47:30</td>\n",
       "      <td>7</td>\n",
       "    </tr>\n",
       "  </tbody>\n",
       "</table>\n",
       "</div>"
      ],
      "text/plain": [
       "       sid           click_time  click_mode\n",
       "0  2848914  2018-11-17 18:42:17           1\n",
       "1  2629085  2018-10-12 16:28:13           3\n",
       "2   602598  2018-11-11 16:38:42           2\n",
       "3  2022975  2018-10-14 12:28:11           9\n",
       "4   988425  2018-11-12 16:47:30           7"
      ]
     },
     "execution_count": 32,
     "metadata": {},
     "output_type": "execute_result"
    }
   ],
   "source": [
    "train_clicks.head()"
   ]
  },
  {
   "cell_type": "code",
   "execution_count": 33,
   "metadata": {},
   "outputs": [
    {
     "data": {
      "text/plain": [
       "(453336, 3)"
      ]
     },
     "execution_count": 33,
     "metadata": {},
     "output_type": "execute_result"
    }
   ],
   "source": [
    "train_clicks.shape"
   ]
  },
  {
   "cell_type": "code",
   "execution_count": 34,
   "metadata": {},
   "outputs": [
    {
     "data": {
      "text/plain": [
       "sid            int64\n",
       "click_time    object\n",
       "click_mode     int64\n",
       "dtype: object"
      ]
     },
     "execution_count": 34,
     "metadata": {},
     "output_type": "execute_result"
    }
   ],
   "source": [
    "train_clicks.dtypes"
   ]
  },
  {
   "cell_type": "code",
   "execution_count": 35,
   "metadata": {},
   "outputs": [
    {
     "data": {
      "text/plain": [
       "sid           0\n",
       "click_time    0\n",
       "click_mode    0\n",
       "dtype: int64"
      ]
     },
     "execution_count": 35,
     "metadata": {},
     "output_type": "execute_result"
    }
   ],
   "source": [
    "train_clicks.isnull().sum()"
   ]
  },
  {
   "cell_type": "code",
   "execution_count": 36,
   "metadata": {},
   "outputs": [
    {
     "data": {
      "text/plain": [
       "sid           453336\n",
       "click_time    422100\n",
       "click_mode        11\n",
       "dtype: int64"
      ]
     },
     "execution_count": 36,
     "metadata": {},
     "output_type": "execute_result"
    }
   ],
   "source": [
    "train_clicks.nunique()"
   ]
  },
  {
   "cell_type": "markdown",
   "metadata": {},
   "source": [
    "#### 结论：\n",
    "#### 1、数据集一共有453336条数据\n",
    "#### 2、数据集有两个int类型数据和一个object数据\n",
    "#### 3、无缺失值\n",
    "#### 4、sid是唯一的，click_time有6.89%是不唯一的，click_mode总共有11种"
   ]
  },
  {
   "cell_type": "markdown",
   "metadata": {},
   "source": [
    "## 3.2 标签分布及特点"
   ]
  },
  {
   "cell_type": "code",
   "execution_count": 48,
   "metadata": {},
   "outputs": [
    {
     "data": {
      "image/png": "[encoded data removed]",
      "text/plain": [
       "<matplotlib.figure.Figure at 0x26f9fa75470>"
      ]
     },
     "metadata": {
      "needs_background": "light"
     },
     "output_type": "display_data"
    }
   ],
   "source": [
    "y = train_clicks['click_mode'].value_counts().values\n",
    "plt.figure(figsize=(14,12))\n",
    "\n",
    "x_label = ['2', '7', '1', '9', '5', '3', '10', '4', '6', '11', '8']\n",
    "ax1 = plt.subplot(2,2,1)\n",
    "ax1.bar(range(len(y)), y, tick_label=x_label)\n",
    "ax1.set_title('标签分布直方图', fontsize=18)\n",
    "ax1.set_xlabel('mode', fontsize=16)\n",
    "ax1.set_ylabel('counts', fontsize=16)\n",
    "\n",
    "ax2 = plt.subplot(2,2,2)\n",
    "ax2.pie(y, labels=x_label,autopct='%3.1f%%', shadow=False)\n",
    "ax2.set_title('标签分布饼状图', fontsize=18)\n",
    "plt.show()"
   ]
  },
  {
   "cell_type": "markdown",
   "metadata": {},
   "source": [
    "#### 2、7、1、9、5是最多的；2比7的价格低，而且速度也较快；1比7的价格低，但是速度慢；9的价格相对2、7、1较低，速度相对2、7、1也较快，但选择的人数却相对较少。"
   ]
  },
  {
   "cell_type": "markdown",
   "metadata": {},
   "source": [
    "## 3.3  细节探索"
   ]
  },
  {
   "cell_type": "markdown",
   "metadata": {},
   "source": [
    "#### train_queries、train_plans、train_clicks中都有时间戳，查看时间戳是否有差别"
   ]
  },
  {
   "cell_type": "code",
   "execution_count": 49,
   "metadata": {},
   "outputs": [],
   "source": [
    "q_p_c = pd.merge(q_p, train_clicks, on='sid')"
   ]
  },
  {
   "cell_type": "code",
   "execution_count": 50,
   "metadata": {},
   "outputs": [
    {
     "data": {
      "text/html": [
       "<div>\n",
       "<style scoped>\n",
       "    .dataframe tbody tr th:only-of-type {\n",
       "        vertical-align: middle;\n",
       "    }\n",
       "\n",
       "    .dataframe tbody tr th {\n",
       "        vertical-align: top;\n",
       "    }\n",
       "\n",
       "    .dataframe thead th {\n",
       "        text-align: right;\n",
       "    }\n",
       "</style>\n",
       "<table border=\"1\" class=\"dataframe\">\n",
       "  <thead>\n",
       "    <tr style=\"text-align: right;\">\n",
       "      <th></th>\n",
       "      <th>sid</th>\n",
       "      <th>pid</th>\n",
       "      <th>req_time</th>\n",
       "      <th>o</th>\n",
       "      <th>d</th>\n",
       "      <th>plan_time</th>\n",
       "      <th>plans</th>\n",
       "      <th>click_time</th>\n",
       "      <th>click_mode</th>\n",
       "    </tr>\n",
       "  </thead>\n",
       "  <tbody>\n",
       "    <tr>\n",
       "      <th>0</th>\n",
       "      <td>3000821</td>\n",
       "      <td>NaN</td>\n",
       "      <td>2018-11-02 17:54:30</td>\n",
       "      <td>116.29,39.97</td>\n",
       "      <td>116.32,39.96</td>\n",
       "      <td>2018-11-02 17:54:30</td>\n",
       "      <td>[{\"distance\": 5219, \"price\": 300, \"eta\": 1367,...</td>\n",
       "      <td>2018-11-02 17:54:32</td>\n",
       "      <td>9</td>\n",
       "    </tr>\n",
       "    <tr>\n",
       "      <th>1</th>\n",
       "      <td>3085857</td>\n",
       "      <td>210736.0</td>\n",
       "      <td>2018-11-16 10:53:10</td>\n",
       "      <td>116.39,39.84</td>\n",
       "      <td>116.33,39.79</td>\n",
       "      <td>2018-11-16 10:53:10</td>\n",
       "      <td>[{\"distance\": 13864, \"price\": 600, \"eta\": 3221...</td>\n",
       "      <td>2018-11-16 10:53:32</td>\n",
       "      <td>1</td>\n",
       "    </tr>\n",
       "    <tr>\n",
       "      <th>2</th>\n",
       "      <td>2944522</td>\n",
       "      <td>NaN</td>\n",
       "      <td>2018-10-06 10:33:58</td>\n",
       "      <td>116.31,39.93</td>\n",
       "      <td>116.27,40.00</td>\n",
       "      <td>2018-10-06 10:33:58</td>\n",
       "      <td>[{\"distance\": 12294, \"price\": 400, \"eta\": 2472...</td>\n",
       "      <td>2018-10-06 10:34:23</td>\n",
       "      <td>9</td>\n",
       "    </tr>\n",
       "    <tr>\n",
       "      <th>3</th>\n",
       "      <td>559931</td>\n",
       "      <td>202427.0</td>\n",
       "      <td>2018-11-23 14:54:11</td>\n",
       "      <td>116.27,39.88</td>\n",
       "      <td>116.39,39.90</td>\n",
       "      <td>2018-11-23 14:54:11</td>\n",
       "      <td>[{\"distance\": 14853, \"price\": 1700, \"eta\": 291...</td>\n",
       "      <td>2018-11-23 14:54:18</td>\n",
       "      <td>1</td>\n",
       "    </tr>\n",
       "    <tr>\n",
       "      <th>4</th>\n",
       "      <td>2819352</td>\n",
       "      <td>172251.0</td>\n",
       "      <td>2018-10-30 11:48:41</td>\n",
       "      <td>116.34,39.96</td>\n",
       "      <td>116.37,39.86</td>\n",
       "      <td>2018-10-30 11:48:41</td>\n",
       "      <td>[{\"distance\": 12882, \"price\": 600, \"eta\": 3211...</td>\n",
       "      <td>2018-10-30 11:49:04</td>\n",
       "      <td>7</td>\n",
       "    </tr>\n",
       "  </tbody>\n",
       "</table>\n",
       "</div>"
      ],
      "text/plain": [
       "       sid       pid             req_time             o             d  \\\n",
       "0  3000821       NaN  2018-11-02 17:54:30  116.29,39.97  116.32,39.96   \n",
       "1  3085857  210736.0  2018-11-16 10:53:10  116.39,39.84  116.33,39.79   \n",
       "2  2944522       NaN  2018-10-06 10:33:58  116.31,39.93  116.27,40.00   \n",
       "3   559931  202427.0  2018-11-23 14:54:11  116.27,39.88  116.39,39.90   \n",
       "4  2819352  172251.0  2018-10-30 11:48:41  116.34,39.96  116.37,39.86   \n",
       "\n",
       "             plan_time                                              plans  \\\n",
       "0  2018-11-02 17:54:30  [{\"distance\": 5219, \"price\": 300, \"eta\": 1367,...   \n",
       "1  2018-11-16 10:53:10  [{\"distance\": 13864, \"price\": 600, \"eta\": 3221...   \n",
       "2  2018-10-06 10:33:58  [{\"distance\": 12294, \"price\": 400, \"eta\": 2472...   \n",
       "3  2018-11-23 14:54:11  [{\"distance\": 14853, \"price\": 1700, \"eta\": 291...   \n",
       "4  2018-10-30 11:48:41  [{\"distance\": 12882, \"price\": 600, \"eta\": 3211...   \n",
       "\n",
       "            click_time  click_mode  \n",
       "0  2018-11-02 17:54:32           9  \n",
       "1  2018-11-16 10:53:32           1  \n",
       "2  2018-10-06 10:34:23           9  \n",
       "3  2018-11-23 14:54:18           1  \n",
       "4  2018-10-30 11:49:04           7  "
      ]
     },
     "execution_count": 50,
     "metadata": {},
     "output_type": "execute_result"
    }
   ],
   "source": [
    "q_p_c.head()"
   ]
  },
  {
   "cell_type": "code",
   "execution_count": 57,
   "metadata": {},
   "outputs": [],
   "source": [
    "import datetime\n",
    "time = []\n",
    "for i in range(q_p_c.shape[0]):\n",
    "    req_time = datetime.datetime.strptime(q_p_c['req_time'][i], \"%Y-%m-%d %H:%M:%S\")\n",
    "    plan_time = datetime.datetime.strptime(q_p_c['plan_time'][i], \"%Y-%m-%d %H:%M:%S\")\n",
    "    click_time = datetime.datetime.strptime(q_p_c['click_time'][i], \"%Y-%m-%d %H:%M:%S\")\n",
    "    time.append(click_time-plan_time)"
   ]
  },
  {
   "cell_type": "markdown",
   "metadata": {},
   "source": [
    "#### 结论：三个时间差距不大，只有个别时间差距比较大，可能是因为网络的问题"
   ]
  },
  {
   "cell_type": "markdown",
   "metadata": {},
   "source": [
    "# 四、profiles数据集"
   ]
  },
  {
   "cell_type": "markdown",
   "metadata": {},
   "source": [
    "## 4.1  数据集大小及类型"
   ]
  },
  {
   "cell_type": "code",
   "execution_count": 49,
   "metadata": {},
   "outputs": [],
   "source": [
    "profiles = pd.read_csv('data_set_phase1//profiles.csv')"
   ]
  },
  {
   "cell_type": "code",
   "execution_count": 50,
   "metadata": {},
   "outputs": [
    {
     "data": {
      "text/html": [
       "<div>\n",
       "<style scoped>\n",
       "    .dataframe tbody tr th:only-of-type {\n",
       "        vertical-align: middle;\n",
       "    }\n",
       "\n",
       "    .dataframe tbody tr th {\n",
       "        vertical-align: top;\n",
       "    }\n",
       "\n",
       "    .dataframe thead th {\n",
       "        text-align: right;\n",
       "    }\n",
       "</style>\n",
       "<table border=\"1\" class=\"dataframe\">\n",
       "  <thead>\n",
       "    <tr style=\"text-align: right;\">\n",
       "      <th></th>\n",
       "      <th>pid</th>\n",
       "      <th>p0</th>\n",
       "      <th>p1</th>\n",
       "      <th>p2</th>\n",
       "      <th>p3</th>\n",
       "      <th>p4</th>\n",
       "      <th>p5</th>\n",
       "      <th>p6</th>\n",
       "      <th>p7</th>\n",
       "      <th>p8</th>\n",
       "      <th>...</th>\n",
       "      <th>p56</th>\n",
       "      <th>p57</th>\n",
       "      <th>p58</th>\n",
       "      <th>p59</th>\n",
       "      <th>p60</th>\n",
       "      <th>p61</th>\n",
       "      <th>p62</th>\n",
       "      <th>p63</th>\n",
       "      <th>p64</th>\n",
       "      <th>p65</th>\n",
       "    </tr>\n",
       "  </thead>\n",
       "  <tbody>\n",
       "    <tr>\n",
       "      <th>0</th>\n",
       "      <td>196356</td>\n",
       "      <td>1.0</td>\n",
       "      <td>0.0</td>\n",
       "      <td>0.0</td>\n",
       "      <td>0.0</td>\n",
       "      <td>0.0</td>\n",
       "      <td>0.0</td>\n",
       "      <td>0.0</td>\n",
       "      <td>0.0</td>\n",
       "      <td>1.0</td>\n",
       "      <td>...</td>\n",
       "      <td>0.0</td>\n",
       "      <td>0.0</td>\n",
       "      <td>0.0</td>\n",
       "      <td>0.0</td>\n",
       "      <td>0.0</td>\n",
       "      <td>0.0</td>\n",
       "      <td>0.0</td>\n",
       "      <td>0.0</td>\n",
       "      <td>0.0</td>\n",
       "      <td>0.0</td>\n",
       "    </tr>\n",
       "    <tr>\n",
       "      <th>1</th>\n",
       "      <td>204083</td>\n",
       "      <td>1.0</td>\n",
       "      <td>0.0</td>\n",
       "      <td>0.0</td>\n",
       "      <td>0.0</td>\n",
       "      <td>0.0</td>\n",
       "      <td>0.0</td>\n",
       "      <td>0.0</td>\n",
       "      <td>1.0</td>\n",
       "      <td>0.0</td>\n",
       "      <td>...</td>\n",
       "      <td>0.0</td>\n",
       "      <td>0.0</td>\n",
       "      <td>0.0</td>\n",
       "      <td>1.0</td>\n",
       "      <td>0.0</td>\n",
       "      <td>0.0</td>\n",
       "      <td>0.0</td>\n",
       "      <td>1.0</td>\n",
       "      <td>0.0</td>\n",
       "      <td>0.0</td>\n",
       "    </tr>\n",
       "    <tr>\n",
       "      <th>2</th>\n",
       "      <td>170667</td>\n",
       "      <td>0.0</td>\n",
       "      <td>0.0</td>\n",
       "      <td>1.0</td>\n",
       "      <td>0.0</td>\n",
       "      <td>0.0</td>\n",
       "      <td>0.0</td>\n",
       "      <td>0.0</td>\n",
       "      <td>1.0</td>\n",
       "      <td>0.0</td>\n",
       "      <td>...</td>\n",
       "      <td>0.0</td>\n",
       "      <td>0.0</td>\n",
       "      <td>0.0</td>\n",
       "      <td>0.0</td>\n",
       "      <td>0.0</td>\n",
       "      <td>0.0</td>\n",
       "      <td>1.0</td>\n",
       "      <td>0.0</td>\n",
       "      <td>0.0</td>\n",
       "      <td>0.0</td>\n",
       "    </tr>\n",
       "    <tr>\n",
       "      <th>3</th>\n",
       "      <td>115511</td>\n",
       "      <td>0.0</td>\n",
       "      <td>0.0</td>\n",
       "      <td>0.0</td>\n",
       "      <td>1.0</td>\n",
       "      <td>0.0</td>\n",
       "      <td>0.0</td>\n",
       "      <td>0.0</td>\n",
       "      <td>0.0</td>\n",
       "      <td>1.0</td>\n",
       "      <td>...</td>\n",
       "      <td>0.0</td>\n",
       "      <td>0.0</td>\n",
       "      <td>0.0</td>\n",
       "      <td>0.0</td>\n",
       "      <td>0.0</td>\n",
       "      <td>0.0</td>\n",
       "      <td>0.0</td>\n",
       "      <td>1.0</td>\n",
       "      <td>0.0</td>\n",
       "      <td>0.0</td>\n",
       "    </tr>\n",
       "    <tr>\n",
       "      <th>4</th>\n",
       "      <td>129719</td>\n",
       "      <td>0.0</td>\n",
       "      <td>0.0</td>\n",
       "      <td>1.0</td>\n",
       "      <td>0.0</td>\n",
       "      <td>0.0</td>\n",
       "      <td>0.0</td>\n",
       "      <td>0.0</td>\n",
       "      <td>0.0</td>\n",
       "      <td>1.0</td>\n",
       "      <td>...</td>\n",
       "      <td>0.0</td>\n",
       "      <td>0.0</td>\n",
       "      <td>0.0</td>\n",
       "      <td>0.0</td>\n",
       "      <td>1.0</td>\n",
       "      <td>0.0</td>\n",
       "      <td>0.0</td>\n",
       "      <td>0.0</td>\n",
       "      <td>0.0</td>\n",
       "      <td>0.0</td>\n",
       "    </tr>\n",
       "  </tbody>\n",
       "</table>\n",
       "<p>5 rows × 67 columns</p>\n",
       "</div>"
      ],
      "text/plain": [
       "      pid   p0   p1   p2   p3   p4   p5   p6   p7   p8 ...   p56  p57  p58  \\\n",
       "0  196356  1.0  0.0  0.0  0.0  0.0  0.0  0.0  0.0  1.0 ...   0.0  0.0  0.0   \n",
       "1  204083  1.0  0.0  0.0  0.0  0.0  0.0  0.0  1.0  0.0 ...   0.0  0.0  0.0   \n",
       "2  170667  0.0  0.0  1.0  0.0  0.0  0.0  0.0  1.0  0.0 ...   0.0  0.0  0.0   \n",
       "3  115511  0.0  0.0  0.0  1.0  0.0  0.0  0.0  0.0  1.0 ...   0.0  0.0  0.0   \n",
       "4  129719  0.0  0.0  1.0  0.0  0.0  0.0  0.0  0.0  1.0 ...   0.0  0.0  0.0   \n",
       "\n",
       "   p59  p60  p61  p62  p63  p64  p65  \n",
       "0  0.0  0.0  0.0  0.0  0.0  0.0  0.0  \n",
       "1  1.0  0.0  0.0  0.0  1.0  0.0  0.0  \n",
       "2  0.0  0.0  0.0  1.0  0.0  0.0  0.0  \n",
       "3  0.0  0.0  0.0  0.0  1.0  0.0  0.0  \n",
       "4  0.0  1.0  0.0  0.0  0.0  0.0  0.0  \n",
       "\n",
       "[5 rows x 67 columns]"
      ]
     },
     "execution_count": 50,
     "metadata": {},
     "output_type": "execute_result"
    }
   ],
   "source": [
    "profiles.head()"
   ]
  },
  {
   "cell_type": "code",
   "execution_count": 52,
   "metadata": {},
   "outputs": [
    {
     "data": {
      "text/plain": [
       "(63090, 67)"
      ]
     },
     "execution_count": 52,
     "metadata": {},
     "output_type": "execute_result"
    }
   ],
   "source": [
    "profiles.shape"
   ]
  },
  {
   "cell_type": "code",
   "execution_count": 57,
   "metadata": {},
   "outputs": [
    {
     "data": {
      "text/plain": [
       "pid      int64\n",
       "p0     float64\n",
       "p1     float64\n",
       "p2     float64\n",
       "p3     float64\n",
       "dtype: object"
      ]
     },
     "execution_count": 57,
     "metadata": {},
     "output_type": "execute_result"
    }
   ],
   "source": [
    "profiles.dtypes[:5]"
   ]
  },
  {
   "cell_type": "code",
   "execution_count": 61,
   "metadata": {},
   "outputs": [
    {
     "data": {
      "text/plain": [
       "pid    0\n",
       "p0     0\n",
       "p1     0\n",
       "p2     0\n",
       "p3     0\n",
       "dtype: int64"
      ]
     },
     "execution_count": 61,
     "metadata": {},
     "output_type": "execute_result"
    }
   ],
   "source": [
    "profiles.isnull().sum()[:5]"
   ]
  },
  {
   "cell_type": "code",
   "execution_count": 63,
   "metadata": {},
   "outputs": [
    {
     "data": {
      "text/plain": [
       "pid    63090\n",
       "p0         2\n",
       "p1         2\n",
       "p2         2\n",
       "p3         2\n",
       "dtype: int64"
      ]
     },
     "execution_count": 63,
     "metadata": {},
     "output_type": "execute_result"
    }
   ],
   "source": [
    "profiles.nunique()[:5]"
   ]
  },
  {
   "cell_type": "markdown",
   "metadata": {},
   "source": [
    "#### 结论：\n",
    "#### 1、数据集有63090条数据\n",
    "#### 2、数据集中只有一个int64类型，其他都为float64类型\n",
    "#### 3、无缺失值\n",
    "#### 4、pid是唯一的"
   ]
  },
  {
   "cell_type": "markdown",
   "metadata": {},
   "source": [
    "# 五、test_queries数据集\n",
    "### sid：会话id\n",
    "### pid：配置文件id\n",
    "### req_time：查询时间戳\n",
    "### o：起始点坐标\n",
    "### d：终点坐标"
   ]
  },
  {
   "cell_type": "markdown",
   "metadata": {},
   "source": [
    "## 5.1 数据集大小及类型"
   ]
  },
  {
   "cell_type": "code",
   "execution_count": 14,
   "metadata": {},
   "outputs": [],
   "source": [
    "test_queries = pd.read_csv('data_set_phase1//test_queries.csv')"
   ]
  },
  {
   "cell_type": "code",
   "execution_count": 15,
   "metadata": {},
   "outputs": [
    {
     "data": {
      "text/html": [
       "<div>\n",
       "<style scoped>\n",
       "    .dataframe tbody tr th:only-of-type {\n",
       "        vertical-align: middle;\n",
       "    }\n",
       "\n",
       "    .dataframe tbody tr th {\n",
       "        vertical-align: top;\n",
       "    }\n",
       "\n",
       "    .dataframe thead th {\n",
       "        text-align: right;\n",
       "    }\n",
       "</style>\n",
       "<table border=\"1\" class=\"dataframe\">\n",
       "  <thead>\n",
       "    <tr style=\"text-align: right;\">\n",
       "      <th></th>\n",
       "      <th>sid</th>\n",
       "      <th>pid</th>\n",
       "      <th>req_time</th>\n",
       "      <th>o</th>\n",
       "      <th>d</th>\n",
       "    </tr>\n",
       "  </thead>\n",
       "  <tbody>\n",
       "    <tr>\n",
       "      <th>0</th>\n",
       "      <td>1126541</td>\n",
       "      <td>178395.0</td>\n",
       "      <td>2018-12-05 14:51:43</td>\n",
       "      <td>116.41,39.92</td>\n",
       "      <td>116.46,39.95</td>\n",
       "    </tr>\n",
       "    <tr>\n",
       "      <th>1</th>\n",
       "      <td>453685</td>\n",
       "      <td>179178.0</td>\n",
       "      <td>2018-12-01 12:50:33</td>\n",
       "      <td>116.39,39.90</td>\n",
       "      <td>116.41,39.91</td>\n",
       "    </tr>\n",
       "    <tr>\n",
       "      <th>2</th>\n",
       "      <td>2066073</td>\n",
       "      <td>184748.0</td>\n",
       "      <td>2018-12-07 10:17:35</td>\n",
       "      <td>116.37,39.71</td>\n",
       "      <td>116.31,39.89</td>\n",
       "    </tr>\n",
       "    <tr>\n",
       "      <th>3</th>\n",
       "      <td>452746</td>\n",
       "      <td>162795.0</td>\n",
       "      <td>2018-12-01 07:52:44</td>\n",
       "      <td>116.33,39.97</td>\n",
       "      <td>116.31,39.98</td>\n",
       "    </tr>\n",
       "    <tr>\n",
       "      <th>4</th>\n",
       "      <td>1431672</td>\n",
       "      <td>116384.0</td>\n",
       "      <td>2018-12-06 10:36:30</td>\n",
       "      <td>116.51,39.68</td>\n",
       "      <td>116.51,39.68</td>\n",
       "    </tr>\n",
       "  </tbody>\n",
       "</table>\n",
       "</div>"
      ],
      "text/plain": [
       "       sid       pid             req_time             o             d\n",
       "0  1126541  178395.0  2018-12-05 14:51:43  116.41,39.92  116.46,39.95\n",
       "1   453685  179178.0  2018-12-01 12:50:33  116.39,39.90  116.41,39.91\n",
       "2  2066073  184748.0  2018-12-07 10:17:35  116.37,39.71  116.31,39.89\n",
       "3   452746  162795.0  2018-12-01 07:52:44  116.33,39.97  116.31,39.98\n",
       "4  1431672  116384.0  2018-12-06 10:36:30  116.51,39.68  116.51,39.68"
      ]
     },
     "execution_count": 15,
     "metadata": {},
     "output_type": "execute_result"
    }
   ],
   "source": [
    "test_queries.head()"
   ]
  },
  {
   "cell_type": "code",
   "execution_count": 16,
   "metadata": {},
   "outputs": [
    {
     "data": {
      "text/plain": [
       "(94358, 5)"
      ]
     },
     "execution_count": 16,
     "metadata": {},
     "output_type": "execute_result"
    }
   ],
   "source": [
    "test_queries.shape"
   ]
  },
  {
   "cell_type": "code",
   "execution_count": 18,
   "metadata": {},
   "outputs": [
    {
     "data": {
      "text/plain": [
       "sid           int64\n",
       "pid         float64\n",
       "req_time     object\n",
       "o            object\n",
       "d            object\n",
       "dtype: object"
      ]
     },
     "execution_count": 18,
     "metadata": {},
     "output_type": "execute_result"
    }
   ],
   "source": [
    "test_queries.dtypes"
   ]
  },
  {
   "cell_type": "code",
   "execution_count": 19,
   "metadata": {},
   "outputs": [
    {
     "data": {
      "text/plain": [
       "sid             0\n",
       "pid         31447\n",
       "req_time        0\n",
       "o               0\n",
       "d               0\n",
       "dtype: int64"
      ]
     },
     "execution_count": 19,
     "metadata": {},
     "output_type": "execute_result"
    }
   ],
   "source": [
    "test_queries.isnull().sum()"
   ]
  },
  {
   "cell_type": "code",
   "execution_count": 20,
   "metadata": {},
   "outputs": [
    {
     "data": {
      "text/plain": [
       "sid         94358\n",
       "pid         13299\n",
       "req_time    84156\n",
       "o            3257\n",
       "d            2884\n",
       "dtype: int64"
      ]
     },
     "execution_count": 20,
     "metadata": {},
     "output_type": "execute_result"
    }
   ],
   "source": [
    "test_queries.nunique()"
   ]
  },
  {
   "cell_type": "markdown",
   "metadata": {},
   "source": [
    "#### 结论：\n",
    "#### 1、数据集中有94358条数据\n",
    "#### 2、数据集中有一个int64类型和一个float64类型以及三个object类型\n",
    "#### 3、pid缺失31447条数据，占33.32%\n",
    "#### 4、sid唯一\n",
    "#### 5、o和d，与训练集相似，应该是相同地点搜索的用户很多"
   ]
  },
  {
   "cell_type": "markdown",
   "metadata": {},
   "source": [
    "## 5.2  o和d分布探索"
   ]
  },
  {
   "cell_type": "code",
   "execution_count": 27,
   "metadata": {},
   "outputs": [
    {
     "data": {
      "text/plain": [
       "116.32,39.89    1133\n",
       "116.37,39.86    1059\n",
       "116.42,39.90    1044\n",
       "116.37,39.91     985\n",
       "116.41,39.91     980\n",
       "Name: o, dtype: int64"
      ]
     },
     "execution_count": 27,
     "metadata": {},
     "output_type": "execute_result"
    }
   ],
   "source": [
    "test_queries['o'].value_counts()[:5]"
   ]
  },
  {
   "cell_type": "code",
   "execution_count": 28,
   "metadata": {},
   "outputs": [
    {
     "data": {
      "text/plain": [
       "116.32,39.89    3382\n",
       "116.37,39.86    2421\n",
       "116.42,39.90    2289\n",
       "116.37,39.91    1345\n",
       "116.39,39.90    1181\n",
       "Name: d, dtype: int64"
      ]
     },
     "execution_count": 28,
     "metadata": {},
     "output_type": "execute_result"
    }
   ],
   "source": [
    "test_queries['d'].value_counts()[:5]"
   ]
  },
  {
   "cell_type": "code",
   "execution_count": 22,
   "metadata": {},
   "outputs": [],
   "source": [
    "from sklearn.cluster import KMeans\n",
    "from pandas import Series, DataFrame\n",
    "import matplotlib.pyplot as plt\n",
    "import matplotlib\n",
    "import numpy as np\n",
    "\n",
    "o_x_list = []\n",
    "o_y_list = []\n",
    "\n",
    "d_x_list = []\n",
    "d_y_list = []\n",
    "\n",
    "# 将经纬度坐标提取出来,该部分可进行优化，参考Phase1_BaseLine\n",
    "for i in range(test_queries.shape[0]):\n",
    "    o_x_list.append(float(test_queries['o'][i].split(',')[0]))\n",
    "    o_y_list.append(float(test_queries['o'][i].split(',')[1]))\n",
    "    \n",
    "    d_x_list.append(float(test_queries['d'][i].split(',')[0]))\n",
    "    d_y_list.append(float(test_queries['d'][i].split(',')[1]))\n",
    "    \n",
    "o_data = pd.DataFrame.from_dict({'x': o_x_list, 'y': o_y_list})\n",
    "d_data = pd.DataFrame.from_dict({'x': d_x_list, 'y': d_y_list})\n",
    "\n",
    "# KMeans聚类\n",
    "model_o = KMeans(n_clusters=7, init='k-means++', n_init=5)\n",
    "model_d = KMeans(n_clusters=7, init='k-means++', n_init=5)\n",
    "y_pre_o = model_o.fit_predict(o_data)\n",
    "y_pre_d = model_d.fit_predict(d_data)"
   ]
  },
  {
   "cell_type": "code",
   "execution_count": 23,
   "metadata": {},
   "outputs": [
    {
     "data": {
      "image/png": "[encoded data removed]",
      "text/plain": [
       "<matplotlib.figure.Figure at 0x1db9a4c6b00>"
      ]
     },
     "metadata": {
      "needs_background": "light"
     },
     "output_type": "display_data"
    }
   ],
   "source": [
    "# 画散点图图\n",
    "def plotScatter(data, y_pre, x_list, y_list):\n",
    "    matplotlib.rcParams['font.sans-serif'] = ['SimHei']\n",
    "    matplotlib.rcParams['axes.unicode_minus'] = False\n",
    "    cm = matplotlib.colors.ListedColormap(['c','b','r','g','m','y'])\n",
    "    plt.scatter(data['x'], data['y'], c=y_pre, cmap=cm, edgecolors='none')\n",
    "    x_min = np.min(x_list)\n",
    "    x_max = np.max(x_list)\n",
    "    y_min = np.min(y_list)\n",
    "    y_max = np.max(y_list)\n",
    "    plt.xticks(np.linspace(x_min,x_max,8,endpoint=True))\n",
    "    plt.yticks(np.linspace(y_min,y_max,9,endpoint=True))\n",
    "    plt.xlabel('纬度', fontsize=16)\n",
    "    plt.ylabel('经度', fontsize=16)\n",
    "plt.figure(figsize=(15, 10))\n",
    "ax1 = plt.subplot(2,2,1)\n",
    "plotScatter(o_data, y_pre_o, o_x_list, o_y_list)\n",
    "ax1.set_title('起点（o）经纬度分布', fontsize=18)\n",
    "ax2 = plt.subplot(2,2,2)\n",
    "plotScatter(d_data, y_pre_d, d_x_list, d_y_list)\n",
    "ax2.set_title('终点（d）经纬度分布', fontsize=18)\n",
    "plt.show()"
   ]
  },
  {
   "cell_type": "markdown",
   "metadata": {},
   "source": [
    "#### 从上图可以看出，中心区较为密集，多为商场等大型场所，所以点很多；较远区域有很多散点，多为上班族下班回郊区所造成。而且起点（o）的分布与终点（d）的分布类似。"
   ]
  },
  {
   "cell_type": "markdown",
   "metadata": {},
   "source": [
    "# 六、test_plans数据集\n",
    "### sid：会话id\n",
    "### plan_time：计划推荐时间戳\n",
    "### plans：推荐模式，包括distance(距离m)、price(价格c)、eta(预计所需时间s)、transport_mode(出行模式)"
   ]
  },
  {
   "cell_type": "markdown",
   "metadata": {},
   "source": [
    "## 6.1 数据集的大小及类型"
   ]
  },
  {
   "cell_type": "code",
   "execution_count": 2,
   "metadata": {},
   "outputs": [],
   "source": [
    "test_plans = pd.read_csv('data_set_phase1//test_plans.csv')"
   ]
  },
  {
   "cell_type": "code",
   "execution_count": 3,
   "metadata": {},
   "outputs": [
    {
     "data": {
      "text/html": [
       "<div>\n",
       "<style scoped>\n",
       "    .dataframe tbody tr th:only-of-type {\n",
       "        vertical-align: middle;\n",
       "    }\n",
       "\n",
       "    .dataframe tbody tr th {\n",
       "        vertical-align: top;\n",
       "    }\n",
       "\n",
       "    .dataframe thead th {\n",
       "        text-align: right;\n",
       "    }\n",
       "</style>\n",
       "<table border=\"1\" class=\"dataframe\">\n",
       "  <thead>\n",
       "    <tr style=\"text-align: right;\">\n",
       "      <th></th>\n",
       "      <th>sid</th>\n",
       "      <th>plan_time</th>\n",
       "      <th>plans</th>\n",
       "    </tr>\n",
       "  </thead>\n",
       "  <tbody>\n",
       "    <tr>\n",
       "      <th>0</th>\n",
       "      <td>1112456</td>\n",
       "      <td>2018-12-05 17:39:47</td>\n",
       "      <td>[{\"distance\": 465, \"price\": \"\", \"eta\": 418, \"t...</td>\n",
       "    </tr>\n",
       "    <tr>\n",
       "      <th>1</th>\n",
       "      <td>1413458</td>\n",
       "      <td>2018-12-06 17:49:17</td>\n",
       "      <td>[{\"distance\": 28846, \"price\": 600, \"eta\": 4779...</td>\n",
       "    </tr>\n",
       "    <tr>\n",
       "      <th>2</th>\n",
       "      <td>1243160</td>\n",
       "      <td>2018-12-02 14:50:25</td>\n",
       "      <td>[{\"distance\": 24646, \"price\": 600, \"eta\": 3513...</td>\n",
       "    </tr>\n",
       "    <tr>\n",
       "      <th>3</th>\n",
       "      <td>2040494</td>\n",
       "      <td>2018-12-07 09:23:45</td>\n",
       "      <td>[{\"distance\": 32235, \"price\": 600, \"eta\": 4072...</td>\n",
       "    </tr>\n",
       "    <tr>\n",
       "      <th>4</th>\n",
       "      <td>1448779</td>\n",
       "      <td>2018-12-06 18:24:46</td>\n",
       "      <td>[{\"distance\": 13502, \"price\": 400, \"eta\": 3195...</td>\n",
       "    </tr>\n",
       "  </tbody>\n",
       "</table>\n",
       "</div>"
      ],
      "text/plain": [
       "       sid            plan_time  \\\n",
       "0  1112456  2018-12-05 17:39:47   \n",
       "1  1413458  2018-12-06 17:49:17   \n",
       "2  1243160  2018-12-02 14:50:25   \n",
       "3  2040494  2018-12-07 09:23:45   \n",
       "4  1448779  2018-12-06 18:24:46   \n",
       "\n",
       "                                               plans  \n",
       "0  [{\"distance\": 465, \"price\": \"\", \"eta\": 418, \"t...  \n",
       "1  [{\"distance\": 28846, \"price\": 600, \"eta\": 4779...  \n",
       "2  [{\"distance\": 24646, \"price\": 600, \"eta\": 3513...  \n",
       "3  [{\"distance\": 32235, \"price\": 600, \"eta\": 4072...  \n",
       "4  [{\"distance\": 13502, \"price\": 400, \"eta\": 3195...  "
      ]
     },
     "execution_count": 3,
     "metadata": {},
     "output_type": "execute_result"
    }
   ],
   "source": [
    "test_plans.head()"
   ]
  },
  {
   "cell_type": "code",
   "execution_count": 5,
   "metadata": {},
   "outputs": [
    {
     "data": {
      "text/plain": [
       "(92571, 3)"
      ]
     },
     "execution_count": 5,
     "metadata": {},
     "output_type": "execute_result"
    }
   ],
   "source": [
    "test_plans.shape"
   ]
  },
  {
   "cell_type": "code",
   "execution_count": 11,
   "metadata": {},
   "outputs": [
    {
     "data": {
      "text/plain": [
       "sid           int64\n",
       "plan_time    object\n",
       "plans        object\n",
       "dtype: object"
      ]
     },
     "execution_count": 11,
     "metadata": {},
     "output_type": "execute_result"
    }
   ],
   "source": [
    "test_plans.dtypes"
   ]
  },
  {
   "cell_type": "code",
   "execution_count": 12,
   "metadata": {},
   "outputs": [
    {
     "data": {
      "text/plain": [
       "sid          0\n",
       "plan_time    0\n",
       "plans        0\n",
       "dtype: int64"
      ]
     },
     "execution_count": 12,
     "metadata": {},
     "output_type": "execute_result"
    }
   ],
   "source": [
    "test_plans.isnull().sum()"
   ]
  },
  {
   "cell_type": "code",
   "execution_count": 13,
   "metadata": {},
   "outputs": [
    {
     "data": {
      "text/plain": [
       "sid          92571\n",
       "plan_time    82432\n",
       "plans        92163\n",
       "dtype: int64"
      ]
     },
     "execution_count": 13,
     "metadata": {},
     "output_type": "execute_result"
    }
   ],
   "source": [
    "test_plans.nunique()"
   ]
  },
  {
   "cell_type": "markdown",
   "metadata": {},
   "source": [
    "#### 结论：\n",
    "#### 1、数据集一共有92571条数据\n",
    "#### 2、数据集中有一个int64类型，两个object类型\n",
    "#### 3、无缺失值\n",
    "#### 4、sid是唯一的，plan_time和plans有部分相同的"
   ]
  },
  {
   "cell_type": "markdown",
   "metadata": {},
   "source": [
    "## 6.2 细节探索"
   ]
  },
  {
   "cell_type": "markdown",
   "metadata": {},
   "source": [
    "#### test_queries和test_plans中都有sid和时间戳"
   ]
  },
  {
   "cell_type": "code",
   "execution_count": 29,
   "metadata": {},
   "outputs": [],
   "source": [
    "q_p = pd.merge(test_queries, test_plans, on='sid')"
   ]
  },
  {
   "cell_type": "code",
   "execution_count": 30,
   "metadata": {},
   "outputs": [
    {
     "data": {
      "text/html": [
       "<div>\n",
       "<style scoped>\n",
       "    .dataframe tbody tr th:only-of-type {\n",
       "        vertical-align: middle;\n",
       "    }\n",
       "\n",
       "    .dataframe tbody tr th {\n",
       "        vertical-align: top;\n",
       "    }\n",
       "\n",
       "    .dataframe thead th {\n",
       "        text-align: right;\n",
       "    }\n",
       "</style>\n",
       "<table border=\"1\" class=\"dataframe\">\n",
       "  <thead>\n",
       "    <tr style=\"text-align: right;\">\n",
       "      <th></th>\n",
       "      <th>sid</th>\n",
       "      <th>pid</th>\n",
       "      <th>req_time</th>\n",
       "      <th>o</th>\n",
       "      <th>d</th>\n",
       "      <th>plan_time</th>\n",
       "      <th>plans</th>\n",
       "    </tr>\n",
       "  </thead>\n",
       "  <tbody>\n",
       "    <tr>\n",
       "      <th>0</th>\n",
       "      <td>1126541</td>\n",
       "      <td>178395.0</td>\n",
       "      <td>2018-12-05 14:51:43</td>\n",
       "      <td>116.41,39.92</td>\n",
       "      <td>116.46,39.95</td>\n",
       "      <td>2018-12-05 14:51:43</td>\n",
       "      <td>[{\"distance\": 13610, \"price\": 400, \"eta\": 2388...</td>\n",
       "    </tr>\n",
       "    <tr>\n",
       "      <th>1</th>\n",
       "      <td>453685</td>\n",
       "      <td>179178.0</td>\n",
       "      <td>2018-12-01 12:50:33</td>\n",
       "      <td>116.39,39.90</td>\n",
       "      <td>116.41,39.91</td>\n",
       "      <td>2018-12-01 12:50:33</td>\n",
       "      <td>[{\"distance\": 2858, \"price\": 200, \"eta\": 1798,...</td>\n",
       "    </tr>\n",
       "    <tr>\n",
       "      <th>2</th>\n",
       "      <td>2066073</td>\n",
       "      <td>184748.0</td>\n",
       "      <td>2018-12-07 10:17:35</td>\n",
       "      <td>116.37,39.71</td>\n",
       "      <td>116.31,39.89</td>\n",
       "      <td>2018-12-07 10:17:35</td>\n",
       "      <td>[{\"distance\": 33453, \"price\": 800, \"eta\": 5624...</td>\n",
       "    </tr>\n",
       "    <tr>\n",
       "      <th>3</th>\n",
       "      <td>452746</td>\n",
       "      <td>162795.0</td>\n",
       "      <td>2018-12-01 07:52:44</td>\n",
       "      <td>116.33,39.97</td>\n",
       "      <td>116.31,39.98</td>\n",
       "      <td>2018-12-01 07:52:44</td>\n",
       "      <td>[{\"distance\": 4007, \"price\": 1500, \"eta\": 989,...</td>\n",
       "    </tr>\n",
       "    <tr>\n",
       "      <th>4</th>\n",
       "      <td>1431672</td>\n",
       "      <td>116384.0</td>\n",
       "      <td>2018-12-06 10:36:30</td>\n",
       "      <td>116.51,39.68</td>\n",
       "      <td>116.51,39.68</td>\n",
       "      <td>2018-12-06 10:36:30</td>\n",
       "      <td>[{\"distance\": 692, \"price\": \"\", \"eta\": 591, \"t...</td>\n",
       "    </tr>\n",
       "  </tbody>\n",
       "</table>\n",
       "</div>"
      ],
      "text/plain": [
       "       sid       pid             req_time             o             d  \\\n",
       "0  1126541  178395.0  2018-12-05 14:51:43  116.41,39.92  116.46,39.95   \n",
       "1   453685  179178.0  2018-12-01 12:50:33  116.39,39.90  116.41,39.91   \n",
       "2  2066073  184748.0  2018-12-07 10:17:35  116.37,39.71  116.31,39.89   \n",
       "3   452746  162795.0  2018-12-01 07:52:44  116.33,39.97  116.31,39.98   \n",
       "4  1431672  116384.0  2018-12-06 10:36:30  116.51,39.68  116.51,39.68   \n",
       "\n",
       "             plan_time                                              plans  \n",
       "0  2018-12-05 14:51:43  [{\"distance\": 13610, \"price\": 400, \"eta\": 2388...  \n",
       "1  2018-12-01 12:50:33  [{\"distance\": 2858, \"price\": 200, \"eta\": 1798,...  \n",
       "2  2018-12-07 10:17:35  [{\"distance\": 33453, \"price\": 800, \"eta\": 5624...  \n",
       "3  2018-12-01 07:52:44  [{\"distance\": 4007, \"price\": 1500, \"eta\": 989,...  \n",
       "4  2018-12-06 10:36:30  [{\"distance\": 692, \"price\": \"\", \"eta\": 591, \"t...  "
      ]
     },
     "execution_count": 30,
     "metadata": {},
     "output_type": "execute_result"
    }
   ],
   "source": [
    "q_p.head()"
   ]
  },
  {
   "cell_type": "code",
   "execution_count": 31,
   "metadata": {},
   "outputs": [
    {
     "data": {
      "text/plain": [
       "(92571, 7)"
      ]
     },
     "execution_count": 31,
     "metadata": {},
     "output_type": "execute_result"
    }
   ],
   "source": [
    "q_p.shape"
   ]
  },
  {
   "cell_type": "code",
   "execution_count": 32,
   "metadata": {},
   "outputs": [],
   "source": [
    "# 比较两个时间戳\n",
    "import datetime\n",
    "time = []\n",
    "for i in range(q_p.shape[0]):\n",
    "    req_time = datetime.datetime.strptime(q_p['req_time'][i], \"%Y-%m-%d %H:%M:%S\")\n",
    "    plan_time = datetime.datetime.strptime(q_p['plan_time'][i], \"%Y-%m-%d %H:%M:%S\")\n",
    "    time.append(req_time-plan_time)"
   ]
  },
  {
   "cell_type": "markdown",
   "metadata": {},
   "source": [
    "#### 结论：和训练集类似，req_time和plan_time有99%是相同的"
   ]
  },
  {
   "cell_type": "markdown",
   "metadata": {},
   "source": [
    "# 七、提交格式"
   ]
  },
  {
   "cell_type": "code",
   "execution_count": 60,
   "metadata": {},
   "outputs": [],
   "source": [
    "submission = pd.read_csv('data_set_phase1//submission_example.csv')"
   ]
  },
  {
   "cell_type": "code",
   "execution_count": 61,
   "metadata": {},
   "outputs": [
    {
     "data": {
      "text/html": [
       "<div>\n",
       "<style scoped>\n",
       "    .dataframe tbody tr th:only-of-type {\n",
       "        vertical-align: middle;\n",
       "    }\n",
       "\n",
       "    .dataframe tbody tr th {\n",
       "        vertical-align: top;\n",
       "    }\n",
       "\n",
       "    .dataframe thead th {\n",
       "        text-align: right;\n",
       "    }\n",
       "</style>\n",
       "<table border=\"1\" class=\"dataframe\">\n",
       "  <thead>\n",
       "    <tr style=\"text-align: right;\">\n",
       "      <th></th>\n",
       "      <th>1126541</th>\n",
       "      <th>2</th>\n",
       "    </tr>\n",
       "  </thead>\n",
       "  <tbody>\n",
       "    <tr>\n",
       "      <th>0</th>\n",
       "      <td>453685</td>\n",
       "      <td>1</td>\n",
       "    </tr>\n",
       "    <tr>\n",
       "      <th>1</th>\n",
       "      <td>2066073</td>\n",
       "      <td>7</td>\n",
       "    </tr>\n",
       "    <tr>\n",
       "      <th>2</th>\n",
       "      <td>452746</td>\n",
       "      <td>2</td>\n",
       "    </tr>\n",
       "    <tr>\n",
       "      <th>3</th>\n",
       "      <td>1431672</td>\n",
       "      <td>5</td>\n",
       "    </tr>\n",
       "    <tr>\n",
       "      <th>4</th>\n",
       "      <td>1362848</td>\n",
       "      <td>1</td>\n",
       "    </tr>\n",
       "  </tbody>\n",
       "</table>\n",
       "</div>"
      ],
      "text/plain": [
       "   1126541  2\n",
       "0   453685  1\n",
       "1  2066073  7\n",
       "2   452746  2\n",
       "3  1431672  5\n",
       "4  1362848  1"
      ]
     },
     "execution_count": 61,
     "metadata": {},
     "output_type": "execute_result"
    }
   ],
   "source": [
    "submission.head()"
   ]
  },
  {
   "cell_type": "code",
   "execution_count": 63,
   "metadata": {},
   "outputs": [
    {
     "data": {
      "text/plain": [
       "1126541    int64\n",
       "2          int64\n",
       "dtype: object"
      ]
     },
     "execution_count": 63,
     "metadata": {},
     "output_type": "execute_result"
    }
   ],
   "source": [
    "submission.dtypes"
   ]
  },
  {
   "cell_type": "markdown",
   "metadata": {},
   "source": [
    "#### 官方给的提交格式没有header，需要自己加上去；提交格式有两个int64数据类型，注意提交格式。"
   ]
  },
  {
   "cell_type": "code",
   "execution_count": null,
   "metadata": {},
   "outputs": [],
   "source": []
  }
 ],
 "metadata": {
  "kernelspec": {
   "display_name": "Python 3",
   "language": "python",
   "name": "python3"
  },
  "language_info": {
   "codemirror_mode": {
    "name": "ipython",
    "version": 3
   },
   "file_extension": ".py",
   "mimetype": "text/x-python",
   "name": "python",
   "nbconvert_exporter": "python",
   "pygments_lexer": "ipython3",
   "version": "3.6.6"
  }
 },
 "nbformat": 4,
 "nbformat_minor": 2
}
